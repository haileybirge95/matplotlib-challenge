{
 "cells": [
  {
   "cell_type": "markdown",
   "metadata": {},
   "source": [
    "# Pymaceuticals Inc.\n",
    "---\n",
    "\n",
    "### Analysis\n",
    "\n",
    "The following observations can be gathered from this analysis:\n",
    "- Capomulin and Ramicane are closely comparable in terms of efficacy.\n",
    "- An even distribution of male and female mice were used in the study.\n",
    "- There is a strong, positive correlation between tumor volume and tumor weight in the Capomulin regimen.\n",
    "- There was only one outlier identified, within the Infubinol regimen. This regimen also had the greatest median final tumor volume."
   ]
  },
  {
   "cell_type": "code",
   "execution_count": null,
   "metadata": {},
   "outputs": [],
   "source": [
    "# Dependencies and Setup\n",
    "import matplotlib.pyplot as plt\n",
    "import pandas as pd\n",
    "import scipy.stats as st\n",
    "import numpy as np\n",
    "\n",
    "# Study data files\n",
    "mouse_metadata_path = \"Resources/Mouse_metadata.csv\"\n",
    "study_results_path = \"data/Study_results.csv\"\n",
    "\n",
    "# Read the mouse data\n",
    "mouse_metadata = pd.read_csv(mouse_metadata_path)\n",
    "mouse_metadata"
   ]
  },
  {
   "cell_type": "code",
   "execution_count": null,
   "metadata": {},
   "outputs": [],
   "source": [
    "# Read the study results\n",
    "study_results = pd.read_csv(study_results_path)\n",
    "study_results"
   ]
  },
  {
   "cell_type": "code",
   "execution_count": null,
   "metadata": {},
   "outputs": [],
   "source": [
    "# Combine the data into a single DataFrame\n",
    "combined_data = pd.merge(mouse_metadata, study_results, on='Mouse ID')\n",
    "\n",
    "# Display the data table for preview\n",
    "combined_data.head()"
   ]
  },
  {
   "cell_type": "code",
   "execution_count": null,
   "metadata": {},
   "outputs": [],
   "source": [
    "# Checking the number of mice.\n",
    "num_unique_mice = combined_data['Mouse ID'].nunique()\n",
    "print(\"Number of mice:\", num_unique_mice)"
   ]
  },
  {
   "cell_type": "code",
   "execution_count": null,
   "metadata": {},
   "outputs": [],
   "source": [
    "# Our data should be uniquely identified by Mouse ID and Timepoint\n",
    "# Get the duplicate mice by ID number that shows up for Mouse ID and Timepoint.\n",
    "duplicate_mice = combined_data[combined_data.duplicated([\"Mouse ID\",\"Timepoint\"])]\n",
    "duplicate_mice = pd.DataFrame({\"Mouse ID\":duplicate_mice[\"Mouse ID\"].unique()})\n",
    "duplicate_mice"
   ]
  },
  {
   "cell_type": "code",
   "execution_count": null,
   "metadata": {},
   "outputs": [],
   "source": [
    "# Optional: Get all the data for the duplicate mouse ID.\n",
    "combined_data.loc[combined_data[\"Mouse ID\"]==str(duplicate_mice.iloc[0,0]),:]"
   ]
  },
  {
   "cell_type": "code",
   "execution_count": null,
   "metadata": {},
   "outputs": [],
   "source": [
    "# Create a clean DataFrame by dropping the duplicate mouse by its ID.\n",
    "drop_index = combined_data[combined_data[\"Mouse ID\"]==str(duplicate_mice.iloc[0,0])].index\n",
    "combined_clean = combined_data.drop(drop_index)\n",
    "combined_clean.reset_index(inplace=True)\n",
    "combined_clean.head()"
   ]
  },
  {
   "cell_type": "code",
   "execution_count": null,
   "metadata": {},
   "outputs": [],
   "source": [
    "# Checking the number of mice in the clean DataFrame.\n",
    "pd.DataFrame({\"Total Subjects\":[len(combined_clean[\"Mouse ID\"].unique())]})"
   ]
  },
  {
   "cell_type": "markdown",
   "metadata": {},
   "source": [
    "## Summary Statistics"
   ]
  },
  {
   "cell_type": "code",
   "execution_count": null,
   "metadata": {},
   "outputs": [],
   "source": [
    "# Generate a summary statistics table of mean, median, variance, standard deviation, and SEM of the tumor volume for each regimen.\n",
    "# Use groupby and summary statistical methods to calculate the following properties of each drug regimen:\n",
    "# mean, median, variance, standard deviation, and SEM of the tumor volume.\n",
    "# Assemble the resulting series into a single summary DataFrame.\n",
    "\n",
    "mean_regimen = combined_clean.groupby(\"Drug Regimen\")[[\"Tumor Volume (mm3)\"]].mean()\n",
    "med_regimen = combined_clean.groupby(\"Drug Regimen\")[[\"Tumor Volume (mm3)\"]].median()\n",
    "var_regimen = combined_clean.groupby(\"Drug Regimen\")[[\"Tumor Volume (mm3)\"]].var()\n",
    "stdev_regimen = combined_clean.groupby(\"Drug Regimen\")[[\"Tumor Volume (mm3)\"]].std()\n",
    "SEM_regimen = combined_clean.groupby(\"Drug Regimen\")[[\"Tumor Volume (mm3)\"]].sem()\n",
    "summary_stats_regimen = pd.merge(mean_regimen,med_regimen,on=\"Drug Regimen\")\n",
    "summary_stats_regimen = pd.merge(summary_stats_regimen,var_regimen,on=\"Drug Regimen\")\n",
    "summary_stats_regimen.rename(columns={\n",
    "    \"Tumor Volume (mm3)_x\":\"Mean Tumor Volume\",\n",
    "    \"Tumor Volume (mm3)_y\":\"Median Tumor Volume\"\n",
    "},inplace=True)\n",
    "summary_stats_regimen = pd.merge(summary_stats_regimen,stdev_regimen,on=\"Drug Regimen\")\n",
    "summary_stats_regimen = pd.merge(summary_stats_regimen,SEM_regimen,on=\"Drug Regimen\")\n",
    "summary_stats_regimen.rename(columns={\n",
    "    \"Tumor Volume (mm3)_x\":\"Tumor Volume Variance\",\n",
    "    \"Tumor Volume (mm3)_y\":\"Tumor Volume Std. Dev.\",\n",
    "    \"Tumor Volume (mm3)\":\"Tumor Volume Std. Err.\"\n",
    "},inplace=True)\n",
    "summary_stats_regimen"
   ]
  },
  {
   "cell_type": "code",
   "execution_count": null,
   "metadata": {},
   "outputs": [],
   "source": [
    "# A more advanced method to generate a summary statistics table of mean, median, variance, standard deviation,\n",
    "# and SEM of the tumor volume for each regimen (only one method is required in the solution)\n",
    "\n",
    "# Using the aggregation method, produce the same summary statistics in a single line\n",
    "aggregation_summary = combined_clean.groupby(['Drug Regimen'])[['Tumor Volume (mm3)']].agg(['mean', 'median', 'var', 'std', 'sem'])\n",
    "aggregation_summary"
   ]
  },
  {
   "cell_type": "markdown",
   "metadata": {},
   "source": [
    "## Bar and Pie Charts"
   ]
  },
  {
   "cell_type": "code",
   "execution_count": null,
   "metadata": {},
   "outputs": [],
   "source": [
    "# Generate a bar plot showing the total number of rows (Mouse ID/Timepoints) for each drug regimen using Pandas.\n",
    "mice_count = combined_clean[\"Drug Regimen\"].value_counts()\n",
    "mice_count"
   ]
  },
  {
   "cell_type": "code",
   "execution_count": null,
   "metadata": {},
   "outputs": [],
   "source": [
    "mice_count_pandasplot = mice_count.plot(kind=\"bar\", title=\"Observed Mouse Timepoints per Drug Regimen\", legend=False)\n",
    "mice_count_pandasplot.set_ylabel(\"# of Observed Mouse Timepoints\")\n",
    "plt.show()"
   ]
  },
  {
   "cell_type": "code",
   "execution_count": null,
   "metadata": {},
   "outputs": [],
   "source": [
    "# Generate a bar plot showing the total number of rows (Mouse ID/Timepoints) for each drug regimen using pyplot.\n",
    "plt.figure(figsize=(8,6))\n",
    "plt.bar(mice_count.index, mice_count.values)\n",
    "plt.title(\"Observed Mouse Timepoints per Drug Regimen\")\n",
    "plt.xlabel('Drug Regimen')\n",
    "plt.ylabel(\"# of Observed Mouse Timepoints\")\n",
    "plt.xticks(rotation=90)\n",
    "plt.show()"
   ]
  },
  {
   "cell_type": "code",
   "execution_count": null,
   "metadata": {},
   "outputs": [],
   "source": [
    "unique_mice_gender = combined_clean.drop_duplicates(subset='Mouse ID')[['Mouse ID', 'Sex']]"
   ]
  },
  {
   "cell_type": "code",
   "execution_count": null,
   "metadata": {},
   "outputs": [],
   "source": [
    "# Generate a pie chart, using Pandas, showing the distribution of unique female versus male mice used in the study\n",
    "\n",
    "# Get the unique mice with their gender\n",
    "gender_counts = unique_mice_gender['Sex'].value_counts()\n",
    "\n",
    "# Make the pie chart\n",
    "gender_counts.plot(kind='pie', autopct='%1.1f%%', startangle=360)\n",
    "plt.ylabel('count')\n",
    "plt.title('Distribution of Sex', loc='center', pad=-20, rotation=360, fontsize=12)\n",
    "plt.show()"
   ]
  },
  {
   "cell_type": "code",
   "execution_count": null,
   "metadata": {},
   "outputs": [],
   "source": [
    "# Generate a pie chart, using pyplot, showing the distribution of unique female versus male mice used in the study\n",
    "\n",
    "# Get the unique mice with their gender\n",
    "gender_counts_pylot = unique_mice_gender['Sex'].value_counts()\n",
    "\n",
    "# Make the pie chart\n",
    "plt.pie(gender_counts, labels=gender_counts.index, autopct='%1.1f%%', startangle=360)\n",
    "plt.ylabel('count')\n",
    "plt.title('Distribution of Sex', loc='center', pad=-20, rotation=360, fontsize=12)\n",
    "plt.show()"
   ]
  },
  {
   "cell_type": "markdown",
   "metadata": {},
   "source": [
    "## Quartiles, Outliers and Boxplots"
   ]
  },
  {
   "cell_type": "code",
   "execution_count": null,
   "metadata": {},
   "outputs": [],
   "source": [
    "# Calculate the final tumor volume of each mouse across four of the treatment regimens:\n",
    "# Capomulin, Ramicane, Infubinol, and Ceftamin\n",
    "\n",
    "Capomulin = combined_clean.loc[combined_clean[\"Drug Regimen\"] == \"Capomulin\",:]\n",
    "Ramicane = combined_clean.loc[combined_clean[\"Drug Regimen\"] == \"Ramicane\", :]\n",
    "Infubinol = combined_clean.loc[combined_clean[\"Drug Regimen\"] == \"Infubinol\", :]\n",
    "Ceftamin = combined_clean.loc[combined_clean[\"Drug Regimen\"] == \"Ceftamin\", :]"
   ]
  },
  {
   "cell_type": "code",
   "execution_count": null,
   "metadata": {},
   "outputs": [],
   "source": [
    "# Start by getting the last (greatest) timepoint for each mouse (Capomulin)\n",
    "Capomulin_final = Capomulin.groupby('Mouse ID').max()['Timepoint']\n",
    "Capomulin_vol = pd.DataFrame(Capomulin_final)\n",
    "\n",
    "# Merge this group df with the original DataFrame to get the tumor volume at the last timepoint\n",
    "Capomulin_merge = pd.merge(Capomulin_vol, combined_clean, on=(\"Mouse ID\",\"Timepoint\"),how=\"left\")\n",
    "Capomulin_merge.head()"
   ]
  },
  {
   "cell_type": "code",
   "execution_count": null,
   "metadata": {},
   "outputs": [],
   "source": [
    "# Start by getting the last (greatest) timepoint for each mouse (Ramicane)\n",
    "Ramicane_final = Ramicane.groupby('Mouse ID').max()['Timepoint']\n",
    "Ramicane_vol = pd.DataFrame(Ramicane_final)\n",
    "\n",
    "# Merge this group df with the original DataFrame to get the tumor volume at the last timepoint\n",
    "Ramicane_merge = pd.merge(Ramicane_vol, combined_clean, on=(\"Mouse ID\",\"Timepoint\"),how=\"left\")\n",
    "Ramicane_merge.head()"
   ]
  },
  {
   "cell_type": "code",
   "execution_count": null,
   "metadata": {},
   "outputs": [],
   "source": [
    "# Start by getting the last (greatest) timepoint for each mouse (Infubinol)\n",
    "Infubinol_final = Infubinol.groupby('Mouse ID').max()['Timepoint']\n",
    "Infubinol_vol = pd.DataFrame(Infubinol_final)\n",
    "\n",
    "# Merge this group df with the original DataFrame to get the tumor volume at the last timepoint\n",
    "Infubinol_merge = pd.merge(Infubinol_vol, combined_clean, on=(\"Mouse ID\",\"Timepoint\"),how=\"left\")\n",
    "Infubinol_merge.head()"
   ]
  },
  {
   "cell_type": "code",
   "execution_count": null,
   "metadata": {},
   "outputs": [],
   "source": [
    "# Start by getting the last (greatest) timepoint for each mouse (Ceftamin)\n",
    "Ceftamin_final = Ceftamin.groupby('Mouse ID').max()['Timepoint']\n",
    "Ceftamin_vol = pd.DataFrame(Ceftamin_final)\n",
    "\n",
    "# Merge this group df with the original DataFrame to get the tumor volume at the last timepoint\n",
    "Ceftamin_merge = pd.merge(Ceftamin_vol, combined_clean, on=(\"Mouse ID\",\"Timepoint\"),how=\"left\")\n",
    "Ceftamin_merge.head()"
   ]
  },
  {
   "cell_type": "code",
   "execution_count": null,
   "metadata": {
    "scrolled": true
   },
   "outputs": [],
   "source": [
    "# Put treatments into a list for for loop (and later for plot labels)\n",
    "regimens = [\"Capomulin\",\"Ramicane\",\"Infubinol\",\"Ceftamin\"]\n",
    "\n",
    "# Create empty list to fill with tumor vol data (for plotting)\n",
    "final_tumor_vol = []\n",
    "\n",
    "# Calculate the IQR and quantitatively determine if there are any potential outliers.\n",
    "\n",
    "    # Locate the rows which contain mice on each drug and get the tumor volumes\n",
    "for drug in regimens:\n",
    "    max_drug = max_times.loc[max_times[\"Drug Regimen\"]==drug,:]\n",
    "    quartiles = max_drug[\"Final Tumor Vol\"].quantile([.25,.5,.75])\n",
    "    lowerq = quartiles[0.25]\n",
    "    upperq = quartiles[0.75]\n",
    "    iqr = upperq - lowerq\n",
    "\n",
    "    # add subset\n",
    "    final_tumor_vol.append(max_drug[\"Final Tumor Vol\"])\n",
    "\n",
    "    # Determine outliers using upper and lower bounds\n",
    "    lower_bound = lowerq - (1.5 * iqr)\n",
    "    upper_bound = upperq + (1.5 * iqr)\n",
    "    \n",
    "    print(f\"The lower quartile of Final Tumor Vol for {drug} is: {lowerq}\")\n",
    "    print(f\"The upper quartile of Final Tumor Vol for {drug} is: {upperq}\")\n",
    "    print(f\"The interquartile range of Final Tumor Vol for {drug} is: {iqr}\")\n",
    "    print(f\"The median of Final Tumor Vol for {drug} is: {quartiles[0.5]}\")\n",
    "    \n",
    "    outlier_vol = max_drug.loc[(max_drug['Final Tumor Vol'] < lower_bound) | (max_drug['Final Tumor Vol'] > upper_bound)]\n",
    "    \n",
    "    if len(outlier_vol) == 0:\n",
    "        print(f\"\\n{drug} has no potential outliers\\n\")\n",
    "        print(\"-------------------------------------\")\n",
    "    else:\n",
    "        print(f\"{drug}'s potential outliers:\")\n",
    "        print(outlier_vol.to_string(index=False))\n",
    "        print(\"-------------------------------------\")"
   ]
  },
  {
   "cell_type": "code",
   "execution_count": null,
   "metadata": {},
   "outputs": [],
   "source": [
    "# Generate a box plot that shows the distribution of the tumor volume for each treatment group.\n",
    "fig, ax = plt.subplots()\n",
    "ax.boxplot(final_tumor_vol, flierprops=dict(markerfacecolor='red'))\n",
    "\n",
    "ax.set_title('Final Tumor Volumes by Treatment')\n",
    "ax.set_ylabel('Tumor Volume (mm3)')\n",
    "\n",
    "# Set the tick locations and labels on the x-axis\n",
    "ax.set_xticks(range(1, len(regimens) + 1))\n",
    "ax.set_xticklabels(regimens)\n",
    "\n",
    "plt.show()"
   ]
  },
  {
   "cell_type": "markdown",
   "metadata": {},
   "source": [
    "## Line and Scatter Plots"
   ]
  },
  {
   "cell_type": "code",
   "execution_count": null,
   "metadata": {},
   "outputs": [],
   "source": [
    "# Generate a line plot of tumor volume vs. time point for a single mouse treated with Capomulin\n",
    "progression_line = Capomulin.loc[Capomulin[\"Mouse ID\"] == \"l509\",:]\n",
    "x_axis = progression_line[\"Timepoint\"]\n",
    "y_axis = progression_line[\"Tumor Volume (mm3)\"]\n",
    "\n",
    "fig1, ax1 = plt.subplots()\n",
    "plt.title('Capomulin treatment of mouse l509')\n",
    "plt.plot(x_axis, y_axis, linewidth=2, markersize=15)\n",
    "plt.xlabel('Timepoint (days)')\n",
    "plt.ylabel('Tumor Volume (mm3)')"
   ]
  },
  {
   "cell_type": "code",
   "execution_count": null,
   "metadata": {},
   "outputs": [],
   "source": [
    "# Generate a scatter plot of mouse weight vs. the average observed tumor volume for the entire Capomulin regimen\n",
    "vol_by_weight = combined_clean.loc[combined_clean[\"Drug Regimen\"]==\"Capomulin\",:].groupby(\"Mouse ID\")[[\"Weight (g)\",\"Tumor Volume (mm3)\"]].mean()\n",
    "plt.scatter(vol_by_weight[\"Weight (g)\"],vol_by_weight[\"Tumor Volume (mm3)\"])\n",
    "plt.title(\"Capomulin Tumor Volume by Weight\")\n",
    "plt.xlabel(\"Weight (g)\")\n",
    "plt.ylabel(\"Average Tumor Volume (mm3)\")\n",
    "plt.show()"
   ]
  },
  {
   "cell_type": "markdown",
   "metadata": {},
   "source": [
    "## Correlation and Regression"
   ]
  },
  {
   "cell_type": "code",
   "execution_count": null,
   "metadata": {},
   "outputs": [],
   "source": [
    "# Calculate the correlation coefficient and a linear regression model\n",
    "\n",
    "#Correlation Coefficient:\n",
    "correlation = st.pearsonr(vol_by_weight['Weight (g)'],vol_by_weight['Tumor Volume (mm3)'])\n",
    "print(f\"The correlation between mouse weight and the average tumor volume is {round(correlation[0],2)}\")\n",
    "\n",
    "#Linear Regression:\n",
    "from scipy.stats import linregress\n",
    "(slope, intercept,rvalue, pvalue, stderr)= linregress(vol_by_weight[\"Weight (g)\"],vol_by_weight[\"Tumor Volume (mm3)\"])\n",
    "regress_values=vol_by_weight[\"Weight (g)\"]* slope + intercept\n",
    "line_eq= f\"y = {round(slope, 2)} x + {round(intercept, 2)}\""
   ]
  },
  {
   "cell_type": "code",
   "execution_count": null,
   "metadata": {},
   "outputs": [],
   "source": [
    "# for mouse weight and average observed tumor volume for the entire Capomulin regimen\n",
    "marker_size=15\n",
    "plt.scatter(vol_by_weight[\"Weight (g)\"],vol_by_weight[\"Tumor Volume (mm3)\"])\n",
    "plt.plot(vol_by_weight[\"Weight (g)\"], regress_values, color='red')\n",
    "plt.annotate(line_eq,(20,36), fontsize=14)\n",
    "plt.xlabel(\"Weight (g)\")\n",
    "plt.ylabel(\"Average Tumor Volume (mm3)\")\n",
    "plt.title(\"Capomulin Tumor Volume by Weight\")\n",
    "print(f\"The r-squared is: {round(rvalue**2,3)}\")\n",
    "plt.show()"
   ]
  }
 ],
 "metadata": {
  "anaconda-cloud": {},
  "kernelspec": {
   "display_name": "Python 3 (ipykernel)",
   "language": "python",
   "name": "python3"
  },
  "language_info": {
   "codemirror_mode": {
    "name": "ipython",
    "version": 3
   },
   "file_extension": ".py",
   "mimetype": "text/x-python",
   "name": "python",
   "nbconvert_exporter": "python",
   "pygments_lexer": "ipython3",
   "version": "3.12.4"
  }
 },
 "nbformat": 4,
 "nbformat_minor": 4
}
